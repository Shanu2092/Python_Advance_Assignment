{
 "cells": [
  {
   "cell_type": "markdown",
   "id": "b06a0e71",
   "metadata": {},
   "source": [
    "Q1. What is the purpose of Python's OOP?\n",
    "\n",
    "The main puspose of OOPs is to bind the data and the functions that work on that together as a single unit so that no other part of the code can access this data. "
   ]
  },
  {
   "cell_type": "markdown",
   "id": "fa06e10b",
   "metadata": {},
   "source": [
    "Q2. Where does an inheritance search look for an attribute?\n",
    "\n",
    "Parent class"
   ]
  },
  {
   "cell_type": "markdown",
   "id": "e69f511c",
   "metadata": {},
   "source": [
    "Q3. How do you distinguish between a class object and an instance object?\n",
    "\n",
    "A Class defines the structure, property, and behaviour of an Object ; an object is referred to as an instance"
   ]
  },
  {
   "cell_type": "markdown",
   "id": "73e9f64b",
   "metadata": {},
   "source": [
    "Q4. What makes the first argument in a class’s method function special?\n",
    "\n",
    "self can access the attributes and methods of the class in python\n"
   ]
  },
  {
   "cell_type": "markdown",
   "id": "881b836f",
   "metadata": {},
   "source": [
    "Q5. What is the purpose of the \"__ init __\"  method?\n",
    "\n",
    "The task of \"__ init __\" is to initialize(assign values) to the data members of the class when an object of class is created,it is also used to inherit or derive propertirees from some other class"
   ]
  },
  {
   "cell_type": "markdown",
   "id": "503f12e9",
   "metadata": {},
   "source": [
    "Q6. What is the process for creating a class instance?\n",
    "\n",
    "instance = class()"
   ]
  },
  {
   "cell_type": "markdown",
   "id": "0e3af65e",
   "metadata": {},
   "source": [
    "Q7. What is the process for creating a class?\n",
    "\n",
    "def class():\n",
    "    \n",
    "    def __init__(self):\n",
    "        pass\n",
    "    \n",
    "    def fun(self)\n",
    "    \n",
    "    ..........."
   ]
  },
  {
   "cell_type": "markdown",
   "id": "2e0c9684",
   "metadata": {},
   "source": [
    "Q8. How would you define the superclasses of a class?\n",
    "\n",
    "A superclass is the class from which many subclasses can be created. The subclasses inherit the characteristics of a superclass"
   ]
  }
 ],
 "metadata": {
  "kernelspec": {
   "display_name": "Python 3 (ipykernel)",
   "language": "python",
   "name": "python3"
  },
  "language_info": {
   "codemirror_mode": {
    "name": "ipython",
    "version": 3
   },
   "file_extension": ".py",
   "mimetype": "text/x-python",
   "name": "python",
   "nbconvert_exporter": "python",
   "pygments_lexer": "ipython3",
   "version": "3.9.7"
  }
 },
 "nbformat": 4,
 "nbformat_minor": 5
}
