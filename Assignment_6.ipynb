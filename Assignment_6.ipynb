{
  "nbformat": 4,
  "nbformat_minor": 0,
  "metadata": {
    "colab": {
      "name": "Assignment_6.ipynb",
      "provenance": [],
      "collapsed_sections": [],
      "mount_file_id": "1u_fBVWo8e7E1qmRVyH66VSRZJytn84I6",
      "authorship_tag": "ABX9TyPBHgka5nRzy4TN3US2egLk",
      "include_colab_link": true
    },
    "kernelspec": {
      "name": "python3",
      "display_name": "Python 3"
    },
    "language_info": {
      "name": "python"
    }
  },
  "cells": [
    {
      "cell_type": "markdown",
      "metadata": {
        "id": "view-in-github",
        "colab_type": "text"
      },
      "source": [
        "<a href=\"https://colab.research.google.com/github/Shanu2092/Python_Advance_Assignment/blob/main/Assignment_6.ipynb\" target=\"_parent\"><img src=\"https://colab.research.google.com/assets/colab-badge.svg\" alt=\"Open In Colab\"/></a>"
      ]
    },
    {
      "cell_type": "markdown",
      "source": [
        "Q1. Describe three applications for exception processing.\n",
        "\n",
        "Ans. \n",
        "\n",
        "    a. Exception processing enhances code and increases readability\n",
        "\n",
        "    b. It allows you to separate error handlng code from normal code\n",
        "\n",
        "    c. It tells you what the code block was expected to perform\n",
        "\n",
        "\n",
        "\n",
        "\n",
        "Q2. What happens if you don't do something extra to treat an exception?\n",
        "\n",
        "Ans.\n",
        "\n",
        "    If nothing is done to handle exception,the program is stuck and throws out an error\n",
        "\n",
        "\n",
        "\n",
        "Q3. What are your options for recovering from an exception in your script?\n",
        "\n",
        "Ans. \n",
        "\n",
        "    a.  Using try-except block : \n",
        "\n",
        "    b.  Catch\n",
        "\n",
        "    c.  Finally\n",
        "\n",
        "    d.  Throw\n",
        "\n",
        "\n",
        "\n",
        "Q4. Describe two methods for triggering exceptions in your script.\n",
        "\n",
        "Ans\n",
        "\n",
        "    a. Try - Except\n",
        "    b. Else - Finally\n",
        "\n",
        "\n",
        "\n",
        "\n",
        "Q5. Identify two methods for specifying actions to be executed at termination time, regardless of whether or not an exception exists.\n",
        "\n",
        "Ans. \n",
        "\n",
        "    a. Else\n",
        "    b. Finally"
      ],
      "metadata": {
        "id": "ODsVNF2s0Sij"
      }
    },
    {
      "cell_type": "markdown",
      "source": [
        ""
      ],
      "metadata": {
        "id": "litcUmZ02XV0"
      }
    },
    {
      "cell_type": "markdown",
      "source": [
        ""
      ],
      "metadata": {
        "id": "Fr_1Vja80VT0"
      }
    }
  ]
}