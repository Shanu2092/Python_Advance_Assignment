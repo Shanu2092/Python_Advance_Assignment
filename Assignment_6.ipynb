{
  "nbformat": 4,
  "nbformat_minor": 0,
  "metadata": {
    "colab": {
      "name": "Assignment_6.ipynb",
      "provenance": [],
      "mount_file_id": "1u_fBVWo8e7E1qmRVyH66VSRZJytn84I6",
      "authorship_tag": "ABX9TyMzJavPPOMLBl1etBjOrmQ9",
      "include_colab_link": true
    },
    "kernelspec": {
      "name": "python3",
      "display_name": "Python 3"
    },
    "language_info": {
      "name": "python"
    }
  },
  "cells": [
    {
      "cell_type": "markdown",
      "metadata": {
        "id": "view-in-github",
        "colab_type": "text"
      },
      "source": [
        "<a href=\"https://colab.research.google.com/github/Shanu2092/Python_Advance_Assignment/blob/main/Assignment_6.ipynb\" target=\"_parent\"><img src=\"https://colab.research.google.com/assets/colab-badge.svg\" alt=\"Open In Colab\"/></a>"
      ]
    },
    {
      "cell_type": "markdown",
      "source": [
        "Q1. Describe three applications for exception processing.\n",
        "\n",
        "\n",
        "\n",
        "Q2. What happens if you don't do something extra to treat an exception?\n",
        "\n",
        "\n",
        "\n",
        "Q3. What are your options for recovering from an exception in your script?\n",
        "\n",
        "\n",
        "\n",
        "Q4. Describe two methods for triggering exceptions in your script.\n",
        "\n",
        "\n",
        "\n",
        "Q5. Identify two methods for specifying actions to be executed at termination time, regardless of whether or not an exception exists.\n"
      ],
      "metadata": {
        "id": "ODsVNF2s0Sij"
      }
    },
    {
      "cell_type": "markdown",
      "source": [
        ""
      ],
      "metadata": {
        "id": "Fr_1Vja80VT0"
      }
    },
    {
      "cell_type": "code",
      "execution_count": null,
      "metadata": {
        "id": "mSm8XLGzz5fi"
      },
      "outputs": [],
      "source": [
        ""
      ]
    }
  ]
}