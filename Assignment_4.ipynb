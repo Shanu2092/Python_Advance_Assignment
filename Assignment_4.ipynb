{
  "nbformat": 4,
  "nbformat_minor": 0,
  "metadata": {
    "colab": {
      "name": "Assignment_4.ipynb",
      "provenance": [],
      "authorship_tag": "ABX9TyN9p+ek8SAIl0RLDv/GfNER",
      "include_colab_link": true
    },
    "kernelspec": {
      "name": "python3",
      "display_name": "Python 3"
    },
    "language_info": {
      "name": "python"
    }
  },
  "cells": [
    {
      "cell_type": "markdown",
      "metadata": {
        "id": "view-in-github",
        "colab_type": "text"
      },
      "source": [
        "<a href=\"https://colab.research.google.com/github/Shanu2092/Python_Advance_Assignment/blob/main/Assignment_4.ipynb\" target=\"_parent\"><img src=\"https://colab.research.google.com/assets/colab-badge.svg\" alt=\"Open In Colab\"/></a>"
      ]
    },
    {
      "cell_type": "markdown",
      "source": [
        "Q1. Which two operator overloading methods can you use in your classes to support iteration?\n",
        "\n",
        "Ans.\n",
        "\n",
        "\"a\" + \"b\"\n",
        "\n",
        "\"a\" * 5\n",
        "\n",
        "\n",
        "\n",
        "Q2. In what contexts do the two operator overloading methods manage printing?\n",
        "\n",
        "Ans. \n",
        "\n",
        "It depends on the input parameter . Example, If both inputs are string function will print string output.\n",
        "\n",
        "\n",
        "\n",
        "\n",
        "Q3. In a class, how do you intercept slice operations?\n",
        "\n",
        "Ans. \n",
        "\n",
        "\n",
        "\n",
        "\n",
        "Q4. In a class, how do you capture in-place addition?\n",
        "\n",
        "Ans. \n",
        "import operator\n",
        "\n",
        "x = 2\n",
        "y = 3\n",
        "\n",
        "x = operator.iadd(x,y)\n",
        "\n",
        "print(x)\n",
        "\n",
        "\n",
        "\n",
        "Q5. When is it appropriate to use operator overloading?\n",
        "\n",
        "Ans. \n",
        "\n",
        "When we have two objects which are a physical representation of a class (user-defined data type) and we have to add two objects with binary ‘+’ operator it throws an error, because compiler don’t know how to add two objects. So we define a method for an operator and that process is called operator overloading.\n"
      ],
      "metadata": {
        "id": "qgfiuZ2sIA3G"
      }
    },
    {
      "cell_type": "code",
      "execution_count": null,
      "metadata": {
        "id": "NoXPAR1qH_zZ"
      },
      "outputs": [],
      "source": [
        ""
      ]
    }
  ]
}