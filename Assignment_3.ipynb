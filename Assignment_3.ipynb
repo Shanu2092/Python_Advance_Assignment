{
  "nbformat": 4,
  "nbformat_minor": 0,
  "metadata": {
    "colab": {
      "name": "Assignment_3.ipynb",
      "provenance": [],
      "authorship_tag": "ABX9TyME5wJleN/cLKLPgNqOON/g",
      "include_colab_link": true
    },
    "kernelspec": {
      "name": "python3",
      "display_name": "Python 3"
    },
    "language_info": {
      "name": "python"
    }
  },
  "cells": [
    {
      "cell_type": "markdown",
      "metadata": {
        "id": "view-in-github",
        "colab_type": "text"
      },
      "source": [
        "<a href=\"https://colab.research.google.com/github/Shanu2092/Python_Advance_Assignment/blob/main/Assignment_3.ipynb\" target=\"_parent\"><img src=\"https://colab.research.google.com/assets/colab-badge.svg\" alt=\"Open In Colab\"/></a>"
      ]
    },
    {
      "cell_type": "markdown",
      "source": [
        "1. What is the concept of an abstract superclass?\n",
        "\n",
        "Ans. \n",
        "\n",
        " An abstract superclass is one way to provide re-usable code. You can extend the abstract class and inherit the code\n",
        "\n",
        "\n",
        "2. What happens when a class statement's top level contains a basic assignment statement?\n",
        "\n",
        "Ans. \n",
        "\n",
        "When class statement's top level contains a basic assignment statement, it is considered as class attribute. Change in the value of class attribute will affect all the instances of the class.\n",
        "\n",
        "\n",
        "\n",
        "3. Why does a class need to manually call a superclass's __init__ method?\n",
        "\n",
        "Ans. To inherit the contents of its superclass\n",
        "\n",
        "\n",
        "\n",
        "4. How can you augment, instead of completely replacing, an inherited method?\n",
        "\n",
        "Ans. The way to do that in Python is by calling to the original version directly, with augmented arguments.\n",
        "\n",
        "\n",
        "\n",
        "\n",
        "5. How is the local scope of a class different from that of a function?\n",
        "\n",
        "Ans. In class, if the variable is declared without self then it is accessible within that function only, kinda local variable. However if it declared using self like self.variable_name = 'somevalue', then it is accessible via any object but not via the class name.\n",
        "\n",
        "Whereas, if a variable is declared within a function then it is a local variable and is accessible to that function only.\n"
      ],
      "metadata": {
        "id": "Y97DkwgyrJCO"
      }
    },
    {
      "cell_type": "code",
      "execution_count": null,
      "metadata": {
        "id": "haP1f1rorEy8"
      },
      "outputs": [],
      "source": [
        ""
      ]
    }
  ]
}