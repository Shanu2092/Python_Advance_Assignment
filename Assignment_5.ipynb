{
  "nbformat": 4,
  "nbformat_minor": 0,
  "metadata": {
    "colab": {
      "name": "Assignment_5.ipynb",
      "provenance": [],
      "authorship_tag": "ABX9TyNqPNVGiC2jx6/8P1kUuOVj",
      "include_colab_link": true
    },
    "kernelspec": {
      "name": "python3",
      "display_name": "Python 3"
    },
    "language_info": {
      "name": "python"
    }
  },
  "cells": [
    {
      "cell_type": "markdown",
      "metadata": {
        "id": "view-in-github",
        "colab_type": "text"
      },
      "source": [
        "<a href=\"https://colab.research.google.com/github/Shanu2092/Python_Advance_Assignment/blob/main/Assignment_5.ipynb\" target=\"_parent\"><img src=\"https://colab.research.google.com/assets/colab-badge.svg\" alt=\"Open In Colab\"/></a>"
      ]
    },
    {
      "cell_type": "markdown",
      "source": [
        "Q1. What is the meaning of multiple inheritance?\n",
        "\n",
        "Ans. \n",
        "\n",
        "When a class is derived from more than one base class it is called multiple Inheritance.\n",
        "\n",
        "Q2. What is the concept of delegation?\n",
        "\n",
        "Ans. Delegation is an object oriented technique (also called a design pattern). Let's say you have an object x and want to change the behaviour of just one of its methods. You can create a new class that provides a new implementation of the method you're interested in changing and delegates all other methods to the corresponding method of x.\n",
        "\n",
        "The delegation is accomplished via the getattr method; consult the language reference for more information about controlling attribute access.\n",
        "\n",
        "\n",
        "\n",
        "Q3. What is the concept of composition?\n",
        "\n",
        "Ans. A class that references to one or more objects of other classes as an Instance variable. Here, by using the class name or by creating the object we can access the members of one class inside another class. It enables creating complex types by combining objects of different classes. It means that a class Composite can contain an object of another class Component. This type of relationship is known as Has-A Relation\n",
        "\n",
        "\n",
        "Q4. What are bound methods and how do we use them?\n",
        "\n",
        "Ans. A bound method is the one which is dependent on the instance of the class as the first argument. It passes the instance as the first argument which is used to access the variables and functions. All functions in the class are by default bound methods.\n",
        "\n",
        "\n",
        "\n",
        "Q5. What is the purpose of pseudoprivate attributes?\n",
        "\n",
        "Ans. In Python, there is no concept of \"private\" as such. When naming properties and methods at the level, some special processing is actually done to the name, making it inaccessible to the outside world.\n"
      ],
      "metadata": {
        "id": "n6AoMJPHlJSZ"
      }
    },
    {
      "cell_type": "code",
      "execution_count": null,
      "metadata": {
        "id": "s6iGo-wtlH6K"
      },
      "outputs": [],
      "source": [
        ""
      ]
    }
  ]
}