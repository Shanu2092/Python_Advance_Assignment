{
  "nbformat": 4,
  "nbformat_minor": 0,
  "metadata": {
    "colab": {
      "name": "Assignment_10.ipynb",
      "provenance": []
    },
    "kernelspec": {
      "name": "python3",
      "display_name": "Python 3"
    },
    "language_info": {
      "name": "python"
    }
  },
  "cells": [
    {
      "cell_type": "markdown",
      "source": [
        "Q1. What is the difference between __getattr__ and __getattribute__?\n",
        "\n",
        "Ans.\n",
        "\n",
        " Both of them are used to access class attributes,the only difference is that,if the attribute was not found by the usual way then __getattr__ is used.Whereas the __getattribute__ is used before looking at the actual attributes on the object.\n",
        "\n",
        "Q2. What is the difference between properties and descriptors?\n",
        "\n",
        "Ans. \n",
        "\n",
        "descriptors are a low-level mechanism that lets you hook into an object's attributes being accessed. Properties are a high-level application of this; that is, properties are implemented using descriptors. \n",
        "\n",
        "\n",
        "\n",
        "Q3. What are the key differences in functionality between __getattr__ and __getattribute__, as well as properties and descriptors?\n",
        "\n",
        "Ans. \n"
      ],
      "metadata": {
        "id": "ILyqLU-JM6n1"
      }
    },
    {
      "cell_type": "code",
      "execution_count": null,
      "metadata": {
        "id": "-6SbkudjMke-"
      },
      "outputs": [],
      "source": [
        ""
      ]
    }
  ]
}