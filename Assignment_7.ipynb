{
  "nbformat": 4,
  "nbformat_minor": 0,
  "metadata": {
    "colab": {
      "name": "Assignment_7.ipynb",
      "provenance": [],
      "mount_file_id": "1nusIWMbsFb7UZKtZEWG3Vq4-o9sur2Qa",
      "authorship_tag": "ABX9TyPL1T1IcqNFG/WvFQZ+usqW",
      "include_colab_link": true
    },
    "kernelspec": {
      "name": "python3",
      "display_name": "Python 3"
    },
    "language_info": {
      "name": "python"
    }
  },
  "cells": [
    {
      "cell_type": "markdown",
      "metadata": {
        "id": "view-in-github",
        "colab_type": "text"
      },
      "source": [
        "<a href=\"https://colab.research.google.com/github/Shanu2092/Python_Advance_Assignment/blob/main/Assignment_7.ipynb\" target=\"_parent\"><img src=\"https://colab.research.google.com/assets/colab-badge.svg\" alt=\"Open In Colab\"/></a>"
      ]
    },
    {
      "cell_type": "markdown",
      "source": [
        "Q1. What is the purpose of the try statement?\n",
        "\n",
        "Ans.\n",
        "\n",
        "Try statement is used to catch errors in the code\n",
        "\n",
        "\n",
        "Q2. What are the two most popular try statement variations?\n",
        "\n",
        "Ans. \n",
        "\n",
        "a. Try - Except\n",
        "\n",
        "b. Try - Except - Else\n",
        "\n",
        "c. Try - Except - Else - Finally\n",
        "\n",
        "\n",
        "Q3. What is the purpose of the raise statement?\n",
        "\n",
        "Ans. Raise statement raises an error and stops the control flow of the program.\n",
        "\n",
        "Q4. What does the assert statement do, and what other statement is it like?\n",
        "\n",
        "Ans.\n",
        "\n",
        "Assert statement is given condition,failing to which raises an assertion error.\n",
        "\n",
        "\n",
        "Q5. What is the purpose of the with/as argument, and what other statement is it like?\n",
        "\n",
        "Ans. \n",
        "\n",
        "When you have two related operation which you want to operate together.\n"
      ],
      "metadata": {
        "id": "D5usflho71nk"
      }
    }
  ]
}