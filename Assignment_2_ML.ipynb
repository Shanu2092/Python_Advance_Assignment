{
  "nbformat": 4,
  "nbformat_minor": 0,
  "metadata": {
    "colab": {
      "name": "Assignment_2_ML.ipynb",
      "provenance": [],
      "authorship_tag": "ABX9TyNrjBO/YnpHZBucx3wnC4Hh",
      "include_colab_link": true
    },
    "kernelspec": {
      "name": "python3",
      "display_name": "Python 3"
    },
    "language_info": {
      "name": "python"
    }
  },
  "cells": [
    {
      "cell_type": "markdown",
      "metadata": {
        "id": "view-in-github",
        "colab_type": "text"
      },
      "source": [
        "<a href=\"https://colab.research.google.com/github/Shanu2092/Python_Advance_Assignment/blob/main/Assignment_2_ML.ipynb\" target=\"_parent\"><img src=\"https://colab.research.google.com/assets/colab-badge.svg\" alt=\"Open In Colab\"/></a>"
      ]
    },
    {
      "cell_type": "markdown",
      "source": [
        "Q1. What is the relationship between classes and modules?\n",
        "\n",
        "\n",
        "Ans. Classes support inheritance, metaclasses, and descriptors. Modules can't do any of this, modules are essentially singleton instances of an internal module class, and all their globals are attributes on the module instance.\n",
        "\n",
        "\n",
        "\n",
        "Q2. How do you make instances and classes?\n",
        "\n",
        "\n",
        "Ans. The concept of module refers to a single Python file which can be imported (by importing, you have the access to the variables/methods/classes defined in that module).\n",
        "\n",
        "\n",
        "Q3. Where and how should be class attributes created?\n",
        "\n",
        "\n",
        "Ans. Class attributes belong to the class itself and they are shared by all the instances,they are generally defined in the upper parts\n",
        "\n",
        "\n",
        "Q4. Where and how are instance attributes created?\n",
        "\n",
        "Ans. Unlike class atrributes,instance attributes are not shared by all the instances\n",
        "\n",
        "\n",
        "\n",
        "Q5. What does the term \"self\" in a Python class mean?\n",
        "\n",
        "Ans. Self in python class refers to the current instance of the class and accesses the class variable.\n",
        "\n",
        "\n",
        "\n",
        "Q6. How does a Python class handle operator overloading?\n",
        "\n",
        "Ans. Operator Overloading means giving extended meaning beyond their predefined operational meaning. For example operator + is used to add two integers as well as join two strings and merge two lists. It is achievable because ‘+’ operator is overloaded by int class and str class.\n",
        "\n",
        "\n",
        "\n",
        "Q7. When do you consider allowing operator overloading of your classes?\n",
        "\n",
        "Ans. \n",
        "\n",
        "\n",
        "\n",
        "Q8. What is the most popular form of operator overloading?\n",
        "\n",
        "Ans. Addition(+) operator\n",
        "\n",
        "\n",
        "\n",
        "Q9. What are the two most important concepts to grasp in order to comprehend Python OOP code?\n",
        "\n",
        "Ans. Inheritance and Polymorphism\n"
      ],
      "metadata": {
        "id": "E_dk839uZSph"
      }
    },
    {
      "cell_type": "code",
      "execution_count": null,
      "metadata": {
        "id": "XqWsB-iyZP0O"
      },
      "outputs": [],
      "source": [
        ""
      ]
    }
  ]
}